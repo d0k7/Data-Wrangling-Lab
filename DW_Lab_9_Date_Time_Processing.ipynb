{
  "nbformat": 4,
  "nbformat_minor": 0,
  "metadata": {
    "colab": {
      "provenance": [],
      "authorship_tag": "ABX9TyO+KylBJxuoY0AFftz9vg7Y",
      "include_colab_link": true
    },
    "kernelspec": {
      "name": "python3",
      "display_name": "Python 3"
    },
    "language_info": {
      "name": "python"
    }
  },
  "cells": [
    {
      "cell_type": "markdown",
      "metadata": {
        "id": "view-in-github",
        "colab_type": "text"
      },
      "source": [
        "<a href=\"https://colab.research.google.com/github/d0k7/Data-Wrangling-Lab/blob/main/DW_Lab_9_Date_Time_Processing.ipynb\" target=\"_parent\"><img src=\"https://colab.research.google.com/assets/colab-badge.svg\" alt=\"Open In Colab\"/></a>"
      ]
    },
    {
      "cell_type": "code",
      "execution_count": null,
      "metadata": {
        "colab": {
          "base_uri": "https://localhost:8080/"
        },
        "id": "MtOPE_7hpfW9",
        "outputId": "05d76c8d-0a39-4c4f-f844-da3431a6aaea"
      },
      "outputs": [
        {
          "output_type": "stream",
          "name": "stdout",
          "text": [
            "Original DataFrame with Date-Time Processing:\n",
            "   id   datetime  value  year  month  day  weekday  days_since_start  \\\n",
            "0   1 2024-01-01     10  2024      1    1        0                 0   \n",
            "1   2 2024-01-02     20  2024      1    2        1                 1   \n",
            "2   3 2024-01-03     15  2024      1    3        2                 2   \n",
            "3   4 2024-01-04     25  2024      1    4        3                 3   \n",
            "4   5 2024-01-05     30  2024      1    5        4                 4   \n",
            "\n",
            "   time_diff  \n",
            "0        NaN  \n",
            "1        1.0  \n",
            "2        1.0  \n",
            "3        1.0  \n",
            "4        1.0  \n",
            "\n",
            "Monthly Aggregated Data:\n",
            "    datetime  value\n",
            "0 2024-01-01    100\n"
          ]
        }
      ],
      "source": [
        "import pandas as pd\n",
        "import numpy as np\n",
        "\n",
        "# Sample dataset\n",
        "data = {\n",
        "    \"id\": [1, 2, 3, 4, 5],\n",
        "    \"datetime\": pd.date_range(start=\"2024-01-01\", periods=5, freq=\"D\"),\n",
        "    \"value\": [10, 20, 15, 25, 30],\n",
        "}\n",
        "df = pd.DataFrame(data)\n",
        "\n",
        "# Ensure datetime column is in datetime format\n",
        "df[\"datetime\"] = pd.to_datetime(df[\"datetime\"])\n",
        "\n",
        "# Extract date/time components\n",
        "df[\"year\"] = df[\"datetime\"].dt.year\n",
        "df[\"month\"] = df[\"datetime\"].dt.month\n",
        "df[\"day\"] = df[\"datetime\"].dt.day\n",
        "df[\"weekday\"] = df[\"datetime\"].dt.weekday  # 0=Monday, 6=Sunday\n",
        "\n",
        "# Calculate time differences\n",
        "df[\"days_since_start\"] = (df[\"datetime\"] - pd.Timestamp(\"2024-01-01\")).dt.days\n",
        "df[\"time_diff\"] = df[\"datetime\"].diff().dt.days\n",
        "\n",
        "# Aggregate by time intervals (monthly aggregation as an example)\n",
        "monthly_agg = df.groupby(df[\"datetime\"].dt.to_period(\"M\")).agg({\"value\": \"sum\"}).reset_index()\n",
        "monthly_agg[\"datetime\"] = monthly_agg[\"datetime\"].dt.to_timestamp()  # Convert period back to timestamp\n",
        "\n",
        "# Display results\n",
        "print(\"Original DataFrame with Date-Time Processing:\")\n",
        "print(df)\n",
        "print(\"\\nMonthly Aggregated Data:\")\n",
        "print(monthly_agg)\n"
      ]
    },
    {
      "cell_type": "code",
      "source": [],
      "metadata": {
        "id": "x8YuWNh4pgdI"
      },
      "execution_count": null,
      "outputs": []
    }
  ]
}
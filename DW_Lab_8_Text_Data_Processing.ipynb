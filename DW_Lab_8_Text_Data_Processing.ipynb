{
  "nbformat": 4,
  "nbformat_minor": 0,
  "metadata": {
    "colab": {
      "provenance": []
    },
    "kernelspec": {
      "name": "python3",
      "display_name": "Python 3"
    },
    "language_info": {
      "name": "python"
    }
  },
  "cells": [
    {
      "cell_type": "code",
      "source": [
        "pip install nltk"
      ],
      "metadata": {
        "colab": {
          "base_uri": "https://localhost:8080/"
        },
        "id": "AsTYDZlhuaCa",
        "outputId": "1e8f3be2-2d53-481b-c9dc-e071147b5622"
      },
      "execution_count": null,
      "outputs": [
        {
          "output_type": "stream",
          "name": "stdout",
          "text": [
            "Requirement already satisfied: nltk in /usr/local/lib/python3.10/dist-packages (3.9.1)\n",
            "Requirement already satisfied: click in /usr/local/lib/python3.10/dist-packages (from nltk) (8.1.7)\n",
            "Requirement already satisfied: joblib in /usr/local/lib/python3.10/dist-packages (from nltk) (1.4.2)\n",
            "Requirement already satisfied: regex>=2021.8.3 in /usr/local/lib/python3.10/dist-packages (from nltk) (2024.9.11)\n",
            "Requirement already satisfied: tqdm in /usr/local/lib/python3.10/dist-packages (from nltk) (4.66.6)\n"
          ]
        }
      ]
    },
    {
      "cell_type": "code",
      "source": [
        "import nltk\n",
        "nltk.download('punkt')\n",
        "nltk.download('stopwords')\n"
      ],
      "metadata": {
        "colab": {
          "base_uri": "https://localhost:8080/"
        },
        "id": "3y1R9iqJujnY",
        "outputId": "405c8aa0-4397-4de9-cbf4-6148a0fbe35c"
      },
      "execution_count": null,
      "outputs": [
        {
          "output_type": "stream",
          "name": "stderr",
          "text": [
            "[nltk_data] Downloading package punkt to /root/nltk_data...\n",
            "[nltk_data]   Package punkt is already up-to-date!\n",
            "[nltk_data] Downloading package stopwords to /root/nltk_data...\n",
            "[nltk_data]   Package stopwords is already up-to-date!\n"
          ]
        },
        {
          "output_type": "execute_result",
          "data": {
            "text/plain": [
              "True"
            ]
          },
          "metadata": {},
          "execution_count": 6
        }
      ]
    },
    {
      "cell_type": "code",
      "execution_count": null,
      "metadata": {
        "colab": {
          "base_uri": "https://localhost:8080/"
        },
        "id": "oN47osAcuG8O",
        "outputId": "4dc84909-b1dc-42e1-8229-bd38cec719ec"
      },
      "outputs": [
        {
          "output_type": "stream",
          "name": "stdout",
          "text": [
            "Processed Text DataFrame with spaCy:\n",
            "   id                                              text  \\\n",
            "0   1                     Hello, world! This is a test.   \n",
            "1   2                 Text processing is fun; isn't it?   \n",
            "2   3  Python is great for natural language processing!   \n",
            "\n",
            "                                     cleaned_text  \n",
            "0                            [hello, world, test]  \n",
            "1                         [text, processing, fun]  \n",
            "2  [python, great, natural, language, processing]  \n"
          ]
        }
      ],
      "source": [
        "import pandas as pd\n",
        "import spacy\n",
        "\n",
        "# Load spaCy English model\n",
        "nlp = spacy.load(\"en_core_web_sm\")\n",
        "\n",
        "# Sample dataset\n",
        "data = {\n",
        "    \"id\": [1, 2, 3],\n",
        "    \"text\": [\n",
        "        \"Hello, world! This is a test.\",\n",
        "        \"Text processing is fun; isn't it?\",\n",
        "        \"Python is great for natural language processing!\",\n",
        "    ],\n",
        "}\n",
        "df = pd.DataFrame(data)\n",
        "\n",
        "# Preprocess text: tokenize, remove punctuation, lowercase, and stopwords\n",
        "def preprocess_text_spacy(text):\n",
        "    doc = nlp(text.lower())  # Lowercase\n",
        "    tokens = [token.text for token in doc if not token.is_punct and not token.is_stop]  # Remove punctuation and stopwords\n",
        "    return tokens\n",
        "\n",
        "df[\"cleaned_text\"] = df[\"text\"].apply(preprocess_text_spacy)\n",
        "\n",
        "# Display the processed DataFrame\n",
        "print(\"Processed Text DataFrame with spaCy:\")\n",
        "print(df)\n"
      ]
    },
    {
      "cell_type": "code",
      "source": [],
      "metadata": {
        "id": "ZymbSsFbuHzq"
      },
      "execution_count": null,
      "outputs": []
    }
  ]
}
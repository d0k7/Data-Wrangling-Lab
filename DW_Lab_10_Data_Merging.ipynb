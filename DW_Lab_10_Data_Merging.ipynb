{
  "nbformat": 4,
  "nbformat_minor": 0,
  "metadata": {
    "colab": {
      "provenance": [],
      "authorship_tag": "ABX9TyNwr26/h+geHxYoDTbSbZN1",
      "include_colab_link": true
    },
    "kernelspec": {
      "name": "python3",
      "display_name": "Python 3"
    },
    "language_info": {
      "name": "python"
    }
  },
  "cells": [
    {
      "cell_type": "markdown",
      "metadata": {
        "id": "view-in-github",
        "colab_type": "text"
      },
      "source": [
        "<a href=\"https://colab.research.google.com/github/d0k7/Data-Wrangling-Lab/blob/main/DW_Lab_10_Data_Merging.ipynb\" target=\"_parent\"><img src=\"https://colab.research.google.com/assets/colab-badge.svg\" alt=\"Open In Colab\"/></a>"
      ]
    },
    {
      "cell_type": "code",
      "execution_count": null,
      "metadata": {
        "colab": {
          "base_uri": "https://localhost:8080/"
        },
        "id": "IxjSByxxs93v",
        "outputId": "81ad8359-bd4c-4ce1-ca42-03635774e68e"
      },
      "outputs": [
        {
          "output_type": "stream",
          "name": "stdout",
          "text": [
            "Merged DataFrame:\n",
            "   id     name  age         city  salary\n",
            "0   2      Bob   30     New York   70000\n",
            "1   3  Charlie   35  Los Angeles   80000\n"
          ]
        }
      ],
      "source": [
        "import pandas as pd\n",
        "\n",
        "# Sample datasets\n",
        "data1 = {\n",
        "    \"id\": [1, 2, 3],\n",
        "    \"name\": [\"Alice\", \"Bob\", \"Charlie\"],\n",
        "    \"age\": [25, 30, 35],\n",
        "}\n",
        "data2 = {\n",
        "    \"id\": [2, 3, 4],\n",
        "    \"city\": [\"New York\", \"Los Angeles\", \"Chicago\"],\n",
        "    \"salary\": [70000, 80000, 60000],\n",
        "}\n",
        "\n",
        "# Create DataFrames\n",
        "df1 = pd.DataFrame(data1)\n",
        "df2 = pd.DataFrame(data2)\n",
        "\n",
        "# Merge datasets based on common key ('id')\n",
        "merged_df = pd.merge(df1, df2, on=\"id\", how=\"inner\")  # Use 'left', 'right', or 'outer' as needed\n",
        "\n",
        "# Display the merged DataFrame\n",
        "print(\"Merged DataFrame:\")\n",
        "print(merged_df)\n"
      ]
    },
    {
      "cell_type": "code",
      "source": [],
      "metadata": {
        "id": "sgrTZRqGs_X7"
      },
      "execution_count": null,
      "outputs": []
    }
  ]
}
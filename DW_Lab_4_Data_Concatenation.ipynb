{
  "nbformat": 4,
  "nbformat_minor": 0,
  "metadata": {
    "colab": {
      "provenance": [],
      "authorship_tag": "ABX9TyOrUHX3vRQ+GX5MGjFjALKH",
      "include_colab_link": true
    },
    "kernelspec": {
      "name": "python3",
      "display_name": "Python 3"
    },
    "language_info": {
      "name": "python"
    }
  },
  "cells": [
    {
      "cell_type": "markdown",
      "metadata": {
        "id": "view-in-github",
        "colab_type": "text"
      },
      "source": [
        "<a href=\"https://colab.research.google.com/github/d0k7/Data-Wrangling-Lab/blob/main/DW_Lab_4_Data_Concatenation.ipynb\" target=\"_parent\"><img src=\"https://colab.research.google.com/assets/colab-badge.svg\" alt=\"Open In Colab\"/></a>"
      ]
    },
    {
      "cell_type": "code",
      "execution_count": null,
      "metadata": {
        "colab": {
          "base_uri": "https://localhost:8080/"
        },
        "id": "IM2SnRP2yXK_",
        "outputId": "b92481d8-fa76-44a2-cf0b-20a082227246"
      },
      "outputs": [
        {
          "output_type": "stream",
          "name": "stdout",
          "text": [
            "Dataset 1:\n",
            "   ID     Name  Age\n",
            "0   1    Alice   25\n",
            "1   2      Bob   30\n",
            "2   3  Charlie   35\n",
            "\n",
            "Dataset 2:\n",
            "   ID   Name  Age\n",
            "0   4  David   40\n",
            "1   5    Eva   45\n",
            "2   6  Frank   50\n",
            "\n",
            "Dataset 3:\n",
            "   ID  Salary\n",
            "0   1   50000\n",
            "1   2   60000\n",
            "2   3   70000\n"
          ]
        }
      ],
      "source": [
        "import pandas as pd\n",
        "\n",
        "# Dataset 1\n",
        "data1 = {'ID': [1, 2, 3],\n",
        "         'Name': ['Alice', 'Bob', 'Charlie'],\n",
        "         'Age': [25, 30, 35]}\n",
        "\n",
        "# Dataset 2\n",
        "data2 = {'ID': [4, 5, 6],\n",
        "         'Name': ['David', 'Eva', 'Frank'],\n",
        "         'Age': [40, 45, 50]}\n",
        "\n",
        "# Dataset 3 (for column concatenation)\n",
        "data3 = {'ID': [1, 2, 3],\n",
        "         'Salary': [50000, 60000, 70000]}\n",
        "\n",
        "# Convert dictionaries to DataFrames\n",
        "df1 = pd.DataFrame(data1)\n",
        "df2 = pd.DataFrame(data2)\n",
        "df3 = pd.DataFrame(data3)\n",
        "\n",
        "print(\"Dataset 1:\")\n",
        "print(df1)\n",
        "print(\"\\nDataset 2:\")\n",
        "print(df2)\n",
        "print(\"\\nDataset 3:\")\n",
        "print(df3)\n"
      ]
    },
    {
      "cell_type": "markdown",
      "source": [
        "**1. Concatenating Along Rows (Adding Data Vertically)**"
      ],
      "metadata": {
        "id": "LEujqR6VyoaK"
      }
    },
    {
      "cell_type": "code",
      "source": [
        "# Concatenate along rows\n",
        "df_row_concat = pd.concat([df1, df2], ignore_index=True)\n",
        "\n",
        "print(\"\\nConcatenated along rows:\")\n",
        "print(df_row_concat)\n"
      ],
      "metadata": {
        "colab": {
          "base_uri": "https://localhost:8080/"
        },
        "id": "p-BmwUYCyjew",
        "outputId": "e6c60cd4-2c2b-4b85-8d26-fa0027edf703"
      },
      "execution_count": null,
      "outputs": [
        {
          "output_type": "stream",
          "name": "stdout",
          "text": [
            "\n",
            "Concatenated along rows:\n",
            "   ID     Name  Age\n",
            "0   1    Alice   25\n",
            "1   2      Bob   30\n",
            "2   3  Charlie   35\n",
            "3   4    David   40\n",
            "4   5      Eva   45\n",
            "5   6    Frank   50\n"
          ]
        }
      ]
    },
    {
      "cell_type": "markdown",
      "source": [
        "**2. Concatenating Along Columns (Adding Data Horizontally)**"
      ],
      "metadata": {
        "id": "2UugL4i4y1F9"
      }
    },
    {
      "cell_type": "code",
      "source": [
        "# Concatenate along columns\n",
        "df_col_concat = pd.concat([df1, df3], axis=1)\n",
        "\n",
        "print(\"\\nConcatenated along columns:\")\n",
        "print(df_col_concat)\n"
      ],
      "metadata": {
        "id": "4As1hhTgy5st",
        "outputId": "051c8c0a-0df8-43e2-907c-9696269b6094",
        "colab": {
          "base_uri": "https://localhost:8080/"
        }
      },
      "execution_count": null,
      "outputs": [
        {
          "output_type": "stream",
          "name": "stdout",
          "text": [
            "\n",
            "Concatenated along columns:\n",
            "   ID     Name  Age  ID  Salary\n",
            "0   1    Alice   25   1   50000\n",
            "1   2      Bob   30   2   60000\n",
            "2   3  Charlie   35   3   70000\n"
          ]
        }
      ]
    },
    {
      "cell_type": "code",
      "source": [],
      "metadata": {
        "id": "DnunXF-vy-Nf"
      },
      "execution_count": null,
      "outputs": []
    }
  ]
}
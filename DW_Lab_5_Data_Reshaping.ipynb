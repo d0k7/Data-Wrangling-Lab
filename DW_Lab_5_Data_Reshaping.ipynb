{
  "nbformat": 4,
  "nbformat_minor": 0,
  "metadata": {
    "colab": {
      "provenance": [],
      "authorship_tag": "ABX9TyOjl/Jv6h7W0tZujg/Aqkbd",
      "include_colab_link": true
    },
    "kernelspec": {
      "name": "python3",
      "display_name": "Python 3"
    },
    "language_info": {
      "name": "python"
    }
  },
  "cells": [
    {
      "cell_type": "markdown",
      "metadata": {
        "id": "view-in-github",
        "colab_type": "text"
      },
      "source": [
        "<a href=\"https://colab.research.google.com/github/d0k7/Data-Wrangling-Lab/blob/main/DW_Lab_5_Data_Reshaping.ipynb\" target=\"_parent\"><img src=\"https://colab.research.google.com/assets/colab-badge.svg\" alt=\"Open In Colab\"/></a>"
      ]
    },
    {
      "cell_type": "code",
      "execution_count": null,
      "metadata": {
        "colab": {
          "base_uri": "https://localhost:8080/"
        },
        "id": "GZX71acCzIT3",
        "outputId": "5a19bd12-f731-4eb3-ddc0-5a4fea8ee920"
      },
      "outputs": [
        {
          "output_type": "stream",
          "name": "stdout",
          "text": [
            "Original Dataset (Wide Format):\n",
            "  Product  Jan_Sales  Feb_Sales  Mar_Sales\n",
            "0       A        150        160        170\n",
            "1       B        200        210        220\n",
            "2       C        250        270        290\n"
          ]
        }
      ],
      "source": [
        "import pandas as pd\n",
        "\n",
        "# Sample data in wide format\n",
        "data = {'Product': ['A', 'B', 'C'],\n",
        "        'Jan_Sales': [150, 200, 250],\n",
        "        'Feb_Sales': [160, 210, 270],\n",
        "        'Mar_Sales': [170, 220, 290]}\n",
        "\n",
        "# Convert dictionary to DataFrame\n",
        "df = pd.DataFrame(data)\n",
        "\n",
        "print(\"Original Dataset (Wide Format):\")\n",
        "print(df)\n"
      ]
    },
    {
      "cell_type": "markdown",
      "source": [
        "**1. Reshaping with melt() (Wide to Long)**"
      ],
      "metadata": {
        "id": "EQ72MzLOzewE"
      }
    },
    {
      "cell_type": "code",
      "source": [
        "# Melt the data to convert it into long format\n",
        "df_long = pd.melt(df, id_vars=['Product'],\n",
        "                  var_name='Month',\n",
        "                  value_name='Sales')\n",
        "\n",
        "# Clean up 'Month' column to only contain the month names\n",
        "df_long['Month'] = df_long['Month'].str.replace('_Sales', '')\n",
        "\n",
        "print(\"\\nMelted Dataset (Long Format):\")\n",
        "print(df_long)\n"
      ],
      "metadata": {
        "colab": {
          "base_uri": "https://localhost:8080/"
        },
        "id": "Cc6YA4F6zb18",
        "outputId": "ae0eb83d-17db-482b-c45c-20c986848313"
      },
      "execution_count": null,
      "outputs": [
        {
          "output_type": "stream",
          "name": "stdout",
          "text": [
            "\n",
            "Melted Dataset (Long Format):\n",
            "  Product Month  Sales\n",
            "0       A   Jan    150\n",
            "1       B   Jan    200\n",
            "2       C   Jan    250\n",
            "3       A   Feb    160\n",
            "4       B   Feb    210\n",
            "5       C   Feb    270\n",
            "6       A   Mar    170\n",
            "7       B   Mar    220\n",
            "8       C   Mar    290\n"
          ]
        }
      ]
    },
    {
      "cell_type": "markdown",
      "source": [
        "**2. Reshaping with pivot() (Long to Wide)**"
      ],
      "metadata": {
        "id": "scqz_4wQzlqA"
      }
    },
    {
      "cell_type": "code",
      "source": [
        "# Pivot the long format back into wide format\n",
        "df_wide = df_long.pivot(index='Product', columns='Month', values='Sales')\n",
        "\n",
        "print(\"\\nPivoted Dataset (Back to Wide Format):\")\n",
        "print(df_wide)\n"
      ],
      "metadata": {
        "colab": {
          "base_uri": "https://localhost:8080/"
        },
        "id": "ALEvk5yazjNm",
        "outputId": "08115a6c-c855-4f7d-8c61-5cee460e4924"
      },
      "execution_count": null,
      "outputs": [
        {
          "output_type": "stream",
          "name": "stdout",
          "text": [
            "\n",
            "Pivoted Dataset (Back to Wide Format):\n",
            "Month    Feb  Jan  Mar\n",
            "Product               \n",
            "A        160  150  170\n",
            "B        210  200  220\n",
            "C        270  250  290\n"
          ]
        }
      ]
    },
    {
      "cell_type": "markdown",
      "source": [
        "**3. Stacking**"
      ],
      "metadata": {
        "id": "whDstoGxzswy"
      }
    },
    {
      "cell_type": "code",
      "source": [
        "# Stack the dataset (pivoted wide data)\n",
        "df_stacked = df_wide.stack()\n",
        "\n",
        "print(\"\\nStacked Data (From Wide to Stacked Format):\")\n",
        "print(df_stacked)\n"
      ],
      "metadata": {
        "colab": {
          "base_uri": "https://localhost:8080/"
        },
        "id": "YCSbf5_mzpnN",
        "outputId": "522f6f73-8cf5-4bf1-f124-b73d601732ad"
      },
      "execution_count": null,
      "outputs": [
        {
          "output_type": "stream",
          "name": "stdout",
          "text": [
            "\n",
            "Stacked Data (From Wide to Stacked Format):\n",
            "Product  Month\n",
            "A        Feb      160\n",
            "         Jan      150\n",
            "         Mar      170\n",
            "B        Feb      210\n",
            "         Jan      200\n",
            "         Mar      220\n",
            "C        Feb      270\n",
            "         Jan      250\n",
            "         Mar      290\n",
            "dtype: int64\n"
          ]
        }
      ]
    },
    {
      "cell_type": "markdown",
      "source": [
        "**4. Unstacking**"
      ],
      "metadata": {
        "id": "6Gz4uYr0z5xW"
      }
    },
    {
      "cell_type": "code",
      "source": [
        "# Unstack the dataset to return to wide format\n",
        "df_unstacked = df_stacked.unstack()\n",
        "\n",
        "print(\"\\nUnstacked Data (Back to Wide Format):\")\n",
        "print(df_unstacked)\n"
      ],
      "metadata": {
        "colab": {
          "base_uri": "https://localhost:8080/"
        },
        "id": "PhaAua5FzwK_",
        "outputId": "d08e7afe-1005-4a04-9357-f55c19458c9a"
      },
      "execution_count": null,
      "outputs": [
        {
          "output_type": "stream",
          "name": "stdout",
          "text": [
            "\n",
            "Unstacked Data (Back to Wide Format):\n",
            "Month    Feb  Jan  Mar\n",
            "Product               \n",
            "A        160  150  170\n",
            "B        210  200  220\n",
            "C        270  250  290\n"
          ]
        }
      ]
    },
    {
      "cell_type": "code",
      "source": [],
      "metadata": {
        "id": "dpAgOGT4zzbZ"
      },
      "execution_count": null,
      "outputs": []
    }
  ]
}
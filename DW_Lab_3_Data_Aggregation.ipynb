{
  "nbformat": 4,
  "nbformat_minor": 0,
  "metadata": {
    "colab": {
      "provenance": [],
      "authorship_tag": "ABX9TyOsz3naVm8Z+C1F8P4gWZPN",
      "include_colab_link": true
    },
    "kernelspec": {
      "name": "python3",
      "display_name": "Python 3"
    },
    "language_info": {
      "name": "python"
    }
  },
  "cells": [
    {
      "cell_type": "markdown",
      "metadata": {
        "id": "view-in-github",
        "colab_type": "text"
      },
      "source": [
        "<a href=\"https://colab.research.google.com/github/d0k7/Data-Wrangling-Lab/blob/main/DW_Lab_3_Data_Aggregation.ipynb\" target=\"_parent\"><img src=\"https://colab.research.google.com/assets/colab-badge.svg\" alt=\"Open In Colab\"/></a>"
      ]
    },
    {
      "cell_type": "code",
      "execution_count": null,
      "metadata": {
        "colab": {
          "base_uri": "https://localhost:8080/"
        },
        "id": "agy6e6NY6zGG",
        "outputId": "4146b2b4-9839-4be8-c677-2a07a58105c8"
      },
      "outputs": [
        {
          "output_type": "stream",
          "name": "stdout",
          "text": [
            "Mean Sales by Product:\n",
            "  Product       Sales\n",
            "0       A  183.333333\n",
            "1       B  135.000000\n",
            "\n",
            "Median Salary by Department:\n",
            "  Department   Salary\n",
            "0         HR  52000.0\n",
            "1         IT  75000.0\n",
            "\n",
            "Order Count by Customer:\n",
            "  Customer  Order\n",
            "0    Alice      3\n",
            "1      Bob      2\n",
            "2  Charlie      2\n"
          ]
        }
      ],
      "source": [
        "import pandas as pd\n",
        "\n",
        "# 1. Aggregate by Mean (Sales Data)\n",
        "sales_data = pd.DataFrame({\n",
        "    'Product': ['A', 'B', 'A', 'B', 'A'],\n",
        "    'Sales': [100, 150, 200, 120, 250]\n",
        "})\n",
        "\n",
        "# Group by 'Product' and compute mean sales\n",
        "mean_sales = sales_data.groupby('Product')['Sales'].mean().reset_index()\n",
        "print(\"Mean Sales by Product:\")\n",
        "print(mean_sales)\n",
        "\n",
        "# 2. Aggregate by Median (Employee Salary Data)\n",
        "salary_data = pd.DataFrame({\n",
        "    'Department': ['HR', 'IT', 'HR', 'IT', 'HR', 'IT'],\n",
        "    'Salary': [50000, 70000, 55000, 80000, 52000, 75000]\n",
        "})\n",
        "\n",
        "# Group by 'Department' and compute median salary\n",
        "median_salary = salary_data.groupby('Department')['Salary'].median().reset_index()\n",
        "print(\"\\nMedian Salary by Department:\")\n",
        "print(median_salary)\n",
        "\n",
        "# 3. Aggregate by Count (Order Data)\n",
        "order_data = pd.DataFrame({\n",
        "    'Customer': ['Alice', 'Bob', 'Alice', 'Charlie', 'Bob', 'Charlie', 'Alice'],\n",
        "    'Order': [1, 1, 1, 1, 1, 1, 1]\n",
        "})\n",
        "\n",
        "# Group by 'Customer' and compute count of orders\n",
        "order_count = order_data.groupby('Customer')['Order'].count().reset_index()\n",
        "print(\"\\nOrder Count by Customer:\")\n",
        "print(order_count)\n"
      ]
    },
    {
      "cell_type": "code",
      "source": [],
      "metadata": {
        "id": "MN3Fid7x7izJ"
      },
      "execution_count": null,
      "outputs": []
    }
  ]
}
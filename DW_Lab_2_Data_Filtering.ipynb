{
  "nbformat": 4,
  "nbformat_minor": 0,
  "metadata": {
    "colab": {
      "provenance": [],
      "authorship_tag": "ABX9TyN4d9upZ27foheA7mjo7mJH",
      "include_colab_link": true
    },
    "kernelspec": {
      "name": "python3",
      "display_name": "Python 3"
    },
    "language_info": {
      "name": "python"
    }
  },
  "cells": [
    {
      "cell_type": "markdown",
      "metadata": {
        "id": "view-in-github",
        "colab_type": "text"
      },
      "source": [
        "<a href=\"https://colab.research.google.com/github/d0k7/Data-Wrangling-Lab/blob/main/DW_Lab_2_Data_Filtering.ipynb\" target=\"_parent\"><img src=\"https://colab.research.google.com/assets/colab-badge.svg\" alt=\"Open In Colab\"/></a>"
      ]
    },
    {
      "cell_type": "code",
      "execution_count": null,
      "metadata": {
        "colab": {
          "base_uri": "https://localhost:8080/"
        },
        "id": "l0hAJOKC8K8K",
        "outputId": "53af3aef-abc6-4ad4-b05d-62dd97777a45"
      },
      "outputs": [
        {
          "output_type": "stream",
          "name": "stdout",
          "text": [
            "Sales Data After Removing Outliers:\n",
            "  Product  Sales\n",
            "0       A    100\n",
            "1       B     50\n",
            "4       A    150\n",
            "5       B    120\n",
            "\n",
            "Cities with Temperature Between 20°C and 30°C:\n",
            "    City  Temperature\n",
            "1  CityB           25\n",
            "2  CityC           30\n",
            "4  CityE           22\n",
            "\n",
            "Employee Name and Salary:\n",
            "    Name  Salary\n",
            "0   John   50000\n",
            "1  Alice   60000\n",
            "2    Bob   75000\n",
            "3   Mary   62000\n"
          ]
        }
      ],
      "source": [
        "#1. Filter Rows by Removing Outliers\n",
        "\n",
        "import pandas as pd\n",
        "\n",
        "# Sample data: Product Sales\n",
        "sales_data = pd.DataFrame({\n",
        "    'Product': ['A', 'B', 'A', 'B', 'A', 'B'],\n",
        "    'Sales': [100, 50, 250, 300, 150, 120]\n",
        "})\n",
        "\n",
        "# Filter out rows where 'Sales' are greater than 200 (considered outliers)\n",
        "filtered_sales = sales_data[sales_data['Sales'] <= 200]\n",
        "print(\"Sales Data After Removing Outliers:\")\n",
        "print(filtered_sales)\n",
        "\n",
        "\n",
        "\n",
        "\n",
        "# 2. Filter Rows by Selecting Data Within a Certain Range\n",
        "# Sample data: City Temperatures\n",
        "temp_data = pd.DataFrame({\n",
        "    'City': ['CityA', 'CityB', 'CityC', 'CityD', 'CityE'],\n",
        "    'Temperature': [18, 25, 30, 35, 22]\n",
        "})\n",
        "\n",
        "# Filter to get temperatures between 20°C and 30°C\n",
        "filtered_temp = temp_data[(temp_data['Temperature'] >= 20) & (temp_data['Temperature'] <= 30)]\n",
        "print(\"\\nCities with Temperature Between 20°C and 30°C:\")\n",
        "print(filtered_temp)\n",
        "\n",
        "\n",
        "\n",
        "# 3. Filter Columns\n",
        "\n",
        "\n",
        "# Sample data: Employee Information\n",
        "employee_data = pd.DataFrame({\n",
        "    'Name': ['John', 'Alice', 'Bob', 'Mary'],\n",
        "    'Age': [28, 34, 45, 30],\n",
        "    'Department': ['HR', 'IT', 'Finance', 'IT'],\n",
        "    'Salary': [50000, 60000, 75000, 62000]\n",
        "})\n",
        "\n",
        "# Select only 'Name' and 'Salary' columns\n",
        "filtered_columns = employee_data[['Name', 'Salary']]\n",
        "print(\"\\nEmployee Name and Salary:\")\n",
        "print(filtered_columns)\n",
        "\n"
      ]
    },
    {
      "cell_type": "code",
      "source": [],
      "metadata": {
        "id": "4KIG0GJU8bB-"
      },
      "execution_count": null,
      "outputs": []
    }
  ]
}
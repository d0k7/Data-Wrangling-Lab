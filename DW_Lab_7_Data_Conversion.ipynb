{
  "nbformat": 4,
  "nbformat_minor": 0,
  "metadata": {
    "colab": {
      "provenance": []
    },
    "kernelspec": {
      "name": "python3",
      "display_name": "Python 3"
    },
    "language_info": {
      "name": "python"
    }
  },
  "cells": [
    {
      "cell_type": "code",
      "execution_count": null,
      "metadata": {
        "id": "rgKW6FkztzHs",
        "outputId": "dc2554cc-3251-4b70-f699-a495acf97655",
        "colab": {
          "base_uri": "https://localhost:8080/"
        }
      },
      "outputs": [
        {
          "output_type": "stream",
          "name": "stdout",
          "text": [
            "Transformed DataFrame:\n",
            "   id category  value  category_encoded value_category\n",
            "0   1        A    100                 0            Low\n",
            "1   2        B    200                 1           High\n",
            "2   3        A    300                 0           High\n"
          ]
        }
      ],
      "source": [
        "import pandas as pd\n",
        "\n",
        "# Sample dataset\n",
        "data = {\n",
        "    \"id\": [1, 2, 3],\n",
        "    \"category\": [\"A\", \"B\", \"A\"],\n",
        "    \"value\": [\"100\", \"200\", \"300\"],  # Stored as strings\n",
        "}\n",
        "df = pd.DataFrame(data)\n",
        "\n",
        "# Convert categorical to numerical using label encoding\n",
        "df[\"category_encoded\"] = df[\"category\"].astype(\"category\").cat.codes\n",
        "\n",
        "# Convert numerical stored as strings to integers\n",
        "df[\"value\"] = pd.to_numeric(df[\"value\"])\n",
        "\n",
        "# Convert numerical to categorical\n",
        "df[\"value_category\"] = pd.cut(df[\"value\"], bins=[0, 150, 300], labels=[\"Low\", \"High\"])\n",
        "\n",
        "# Display the transformed DataFrame\n",
        "print(\"Transformed DataFrame:\")\n",
        "print(df)\n"
      ]
    },
    {
      "cell_type": "code",
      "source": [],
      "metadata": {
        "id": "HEsgRXPWtzyR"
      },
      "execution_count": null,
      "outputs": []
    }
  ]
}
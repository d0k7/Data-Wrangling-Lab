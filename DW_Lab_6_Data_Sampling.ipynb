{
  "nbformat": 4,
  "nbformat_minor": 0,
  "metadata": {
    "colab": {
      "provenance": [],
      "authorship_tag": "ABX9TyNnTr9UYqQtqr7XzsRdyN2X",
      "include_colab_link": true
    },
    "kernelspec": {
      "name": "python3",
      "display_name": "Python 3"
    },
    "language_info": {
      "name": "python"
    }
  },
  "cells": [
    {
      "cell_type": "markdown",
      "metadata": {
        "id": "view-in-github",
        "colab_type": "text"
      },
      "source": [
        "<a href=\"https://colab.research.google.com/github/d0k7/Data-Wrangling-Lab/blob/main/DW_Lab_6_Data_Sampling.ipynb\" target=\"_parent\"><img src=\"https://colab.research.google.com/assets/colab-badge.svg\" alt=\"Open In Colab\"/></a>"
      ]
    },
    {
      "cell_type": "code",
      "execution_count": null,
      "metadata": {
        "colab": {
          "base_uri": "https://localhost:8080/"
        },
        "id": "JWyTrOBdEObv",
        "outputId": "4d5b1230-7b71-4729-94af-e6873d9a0e11"
      },
      "outputs": [
        {
          "output_type": "stream",
          "name": "stdout",
          "text": [
            "Original Dataset:\n",
            "           A         B         C         D         E\n",
            "0  0.496714 -0.138264  0.647689  1.523030 -0.234153\n",
            "1 -0.234137  1.579213  0.767435 -0.469474  0.542560\n",
            "2 -0.463418 -0.465730  0.241962 -1.913280 -1.724918\n",
            "3 -0.562288 -1.012831  0.314247 -0.908024 -1.412304\n",
            "4  1.465649 -0.225776  0.067528 -1.424748 -0.544383\n",
            "5  0.110923 -1.150994  0.375698 -0.600639 -0.291694\n",
            "6 -0.601707  1.852278 -0.013497 -1.057711  0.822545\n",
            "7 -1.220844  0.208864 -1.959670 -1.328186  0.196861\n",
            "8  0.738467  0.171368 -0.115648 -0.301104 -1.478522\n",
            "9 -0.719844 -0.460639  1.057122  0.343618 -1.763040\n",
            "\n",
            "Sampled Rows:\n",
            "           A         B         C         D         E\n",
            "8  0.738467  0.171368 -0.115648 -0.301104 -1.478522\n",
            "1 -0.234137  1.579213  0.767435 -0.469474  0.542560\n",
            "5  0.110923 -1.150994  0.375698 -0.600639 -0.291694\n",
            "0  0.496714 -0.138264  0.647689  1.523030 -0.234153\n",
            "\n",
            "Sampled Columns:\n",
            "           B         E         C\n",
            "0 -0.138264 -0.234153  0.647689\n",
            "1  1.579213  0.542560  0.767435\n",
            "2 -0.465730 -1.724918  0.241962\n",
            "3 -1.012831 -1.412304  0.314247\n",
            "4 -0.225776 -0.544383  0.067528\n",
            "5 -1.150994 -0.291694  0.375698\n",
            "6  1.852278  0.822545 -0.013497\n",
            "7  0.208864  0.196861 -1.959670\n",
            "8  0.171368 -1.478522 -0.115648\n",
            "9 -0.460639 -1.763040  1.057122\n",
            "\n",
            "Sampled Rows and Columns:\n",
            "           B         E         C\n",
            "8  0.171368 -1.478522 -0.115648\n",
            "1  1.579213  0.542560  0.767435\n",
            "5 -1.150994 -0.291694  0.375698\n",
            "0 -0.138264 -0.234153  0.647689\n"
          ]
        }
      ],
      "source": [
        "import pandas as pd\n",
        "import numpy as np\n",
        "\n",
        "# Create a sample dataframe\n",
        "np.random.seed(42)  # For reproducibility\n",
        "data = np.random.randn(10, 5)  # 10 rows and 5 columns of random numbers\n",
        "columns = ['A', 'B', 'C', 'D', 'E']\n",
        "df = pd.DataFrame(data, columns=columns)\n",
        "\n",
        "print(\"Original Dataset:\\n\", df)\n",
        "\n",
        "# Randomly sample rows (e.g., 4 random rows)\n",
        "sampled_rows = df.sample(n=4, random_state=42)\n",
        "print(\"\\nSampled Rows:\\n\", sampled_rows)\n",
        "\n",
        "# Randomly sample columns (e.g., 3 random columns)\n",
        "sampled_columns = df.sample(n=3, axis=1, random_state=42)\n",
        "print(\"\\nSampled Columns:\\n\", sampled_columns)\n",
        "\n",
        "# Randomly sample both rows and columns (e.g., 4 rows, 3 columns)\n",
        "sampled_rows_and_columns = df.sample(n=4, random_state=42).sample(n=3, axis=1, random_state=42)\n",
        "print(\"\\nSampled Rows and Columns:\\n\", sampled_rows_and_columns)\n"
      ]
    },
    {
      "cell_type": "code",
      "source": [],
      "metadata": {
        "id": "N39mcp3lEPOM"
      },
      "execution_count": null,
      "outputs": []
    }
  ]
}